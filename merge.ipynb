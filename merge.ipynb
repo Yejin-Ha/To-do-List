{
 "cells": [
  {
   "cell_type": "markdown",
   "metadata": {},
   "source": [
    "# 회원의 유무 확인"
   ]
  },
  {
   "cell_type": "code",
   "execution_count": 97,
   "metadata": {},
   "outputs": [],
   "source": [
    "class Planner:    \n",
    "    def __init__(self, name):\n",
    "        self.name = name;\n",
    "        \n",
    "        \n",
    "    # 존재하는 유저인지 확인\n",
    "    def checkUser(self):\n",
    "        with open('./DataBase/users.txt', 'r', encoding='utf-8') as f:\n",
    "            self.user_list = f.read().splitlines()\n",
    "\n",
    "        if self.name in self.user_list:\n",
    "            print('반갑습니다:) 회원정보가 확인되었습니다.') \n",
    "            print(' ' * 20)\n",
    "        else:\n",
    "            print('회원정보가 없습니다. 유저를 등록해주세요.')            \n",
    "            def getUser(self):\n",
    "                input_name = input('이름을 입력하세요 : ')\n",
    "                with open('./DataBase/users.txt','a', encoding='utf-8') as f: \n",
    "                    f.write('\\n'+input_name)\n",
    "            getUser(self)\n",
    "\n",
    "    # 유저 등록\n",
    "    def getUser(self):\n",
    "        input_name = input('이름을 입력하세요 : ')\n",
    "        with open('./DataBase/users.txt','a', encoding='utf-8') as f: \n",
    "            f.write('\\n'+input_name)\n",
    "\n",
    "\n",
    "    # 할일등록(내용, 날짜)\n",
    "    def todoList(self, todo, date):\n",
    "        self.dates = []\n",
    "        with open(f'./DataBase/Users/{self.name}.txt', 'r', encoding='utf-8') as f:\n",
    "            self.todo_list = f.readlines()\n",
    "\n",
    "        for idx in range(len(self.todo_list)):\n",
    "            if self.todo_list[idx].startswith('#'):\n",
    "                self.dates.append(idx)\n",
    "                if self.todo_list[idx].startswith(f'# {date}'):\n",
    "                    self.today = idx\n",
    "                        \n",
    "        self.next = self.dates.index(self.today)+1\n",
    "        today_list = self.todo_list[self.today:self.next]\n",
    "        today_list.insert(1, f'- {todo}\\n')\n",
    "        add_list = self.todo_list[:self.today]+ today_list + self.todo_list[self.next:]\n",
    "        with open(f'./DataBase/Users/{self.name}.txt', 'w', encoding='utf-8') as f:\n",
    "            f.writelines(add_list)\n",
    "    "
   ]
  },
  {
   "cell_type": "code",
   "execution_count": 98,
   "metadata": {},
   "outputs": [],
   "source": [
    "p = Planner(\"하예진\")"
   ]
  },
  {
   "cell_type": "code",
   "execution_count": 99,
   "metadata": {},
   "outputs": [
    {
     "name": "stdout",
     "output_type": "stream",
     "text": [
      "반갑습니다:) 회원정보가 확인되었습니다.\n",
      "                    \n"
     ]
    }
   ],
   "source": [
    "p.checkUser()"
   ]
  },
  {
   "cell_type": "code",
   "execution_count": 100,
   "metadata": {},
   "outputs": [],
   "source": [
    "p.todoList('hi', '0524')"
   ]
  },
  {
   "cell_type": "code",
   "execution_count": null,
   "metadata": {},
   "outputs": [],
   "source": []
  },
  {
   "cell_type": "code",
   "execution_count": 31,
   "metadata": {},
   "outputs": [],
   "source": [
    "class Planner:\n",
    "    \"\"\"\n",
    "    투두리스트를 작성하는 클래스입니다.\n",
    "    \"\"\"\n",
    "    def __init__(self, name):\n",
    "        self.name = name\n",
    "        self.next = \"\"\n",
    "        self.today = \"\"\n",
    "        self.my_list = []\n",
    "        self.dates = []\n",
    "        self.user_list = []\n",
    "\n",
    "    def check_user(self):\n",
    "        \"\"\"\n",
    "        존재하는 유저인지 확인입니다.\n",
    "        \"\"\"\n",
    "        with open('./DataBase/users.txt', 'r', encoding='utf-8') as file:\n",
    "            self.user_list = file.read().splitlines()\n",
    "        if self.name in self.user_list:\n",
    "            print('반갑습니다:) 회원정보가 확인되었습니다.')\n",
    "            print(' ' * 20)\n",
    "        else:\n",
    "            print('회원정보가 없습니다. 유저를 등록해주세요.')\n",
    "            def get_user(_self):\n",
    "                input_name = input('이름을 입력하세요 : ')\n",
    "                with open('./DataBase/users.txt','a', encoding='utf-8') as file:\n",
    "                    file.write('\\n'+input_name)\n",
    "            get_user(self)\n",
    "\n",
    "    def get_user(self):\n",
    "        \"\"\"\n",
    "        유저를 등록합니다.\n",
    "        \"\"\"\n",
    "        input_name = input('이름을 입력하세요 : ')\n",
    "        with open('./DataBase/users.txt','a', encoding='utf-8') as file:\n",
    "            file.write('\\n'+input_name)\n",
    "\n",
    "    def todo_list(self, todo, date):\n",
    "        \"\"\"\n",
    "        할 일과 날짜를 입력받아서 추가합니다.\n",
    "        \"\"\"\n",
    "        with open(f'./DataBase/Users/{self.name}.txt', 'r', encoding='utf-8') as file:\n",
    "            self.my_list = file.readlines()\n",
    "        for idx in range(len(self.my_list)):\n",
    "            if self.my_list[idx].startswith('#'):\n",
    "                self.dates.append(idx)\n",
    "                if self.my_list[idx].startswith(f'# {date}'):\n",
    "                    self.today = idx\n",
    "        self.next = self.dates.index(self.today)+1\n",
    "        today_list = self.my_list[self.today:self.next]\n",
    "        today_list.insert(1, f'- {todo}\\n')\n",
    "        add_list = self.my_list[:self.today]+ today_list + self.my_list[self.next:]\n",
    "        with open(f'./DataBase/Users/{self.name}.txt', 'w', encoding='utf-8') as file:\n",
    "            file.writelines(add_list)\n",
    "\n",
    "    def print_list(self, date):\n",
    "        \"\"\"\n",
    "        날짜를 입력받아서 유저의 To-do list를 출력합니다.\n",
    "        \"\"\"\n",
    "        with open(f'./DataBase/Users/{self.name}.txt', 'r', encoding='utf-8') as file:\n",
    "            self.my_list = file.read().splitlines()\n",
    "        \n",
    "        for idx in range(len(self.my_list)):\n",
    "            if self.my_list[idx].startswith('#'):\n",
    "                self.dates.append(idx)\n",
    "                if self.my_list[idx].startswith(f'# {date}'):\n",
    "                    self.today = idx\n",
    "        self.next = self.dates.index(self.today)+1\n",
    "        today_list = self.my_list[self.today:self.dates[self.next]]\n",
    "        for item in today_list:\n",
    "            print(item)\n"
   ]
  },
  {
   "cell_type": "code",
   "execution_count": 32,
   "metadata": {},
   "outputs": [],
   "source": [
    "p = Planner('하예진')"
   ]
  },
  {
   "cell_type": "code",
   "execution_count": 33,
   "metadata": {},
   "outputs": [
    {
     "name": "stdout",
     "output_type": "stream",
     "text": [
      "반갑습니다:) 회원정보가 확인되었습니다.\n",
      "                    \n"
     ]
    }
   ],
   "source": [
    "p.check_user()"
   ]
  },
  {
   "cell_type": "code",
   "execution_count": 34,
   "metadata": {},
   "outputs": [
    {
     "name": "stdout",
     "output_type": "stream",
     "text": [
      "# 0524\n",
      "- hi\n",
      "- 점심 먹기\n",
      "- ㅇㄴ\n",
      "- 일찍자기\n",
      "일찍자기\n",
      "- 빨래\n",
      "- 청소\n",
      "--- 완료 ---\n",
      "* 물 마시기\n",
      "* 운동\n",
      "\n"
     ]
    }
   ],
   "source": [
    "p.print_list('0524')"
   ]
  },
  {
   "cell_type": "code",
   "execution_count": null,
   "metadata": {},
   "outputs": [],
   "source": []
  }
 ],
 "metadata": {
  "kernelspec": {
   "display_name": "Python 3",
   "language": "python",
   "name": "python3"
  },
  "language_info": {
   "codemirror_mode": {
    "name": "ipython",
    "version": 3
   },
   "file_extension": ".py",
   "mimetype": "text/x-python",
   "name": "python",
   "nbconvert_exporter": "python",
   "pygments_lexer": "ipython3",
   "version": "3.8.5"
  }
 },
 "nbformat": 4,
 "nbformat_minor": 4
}
