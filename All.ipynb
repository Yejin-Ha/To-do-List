{
 "cells": [
  {
   "cell_type": "code",
   "execution_count": null,
   "metadata": {},
   "outputs": [],
   "source": [
    "import getTime\n",
    "\n",
    "getTime.getTime()"
   ]
  },
  {
   "cell_type": "code",
   "execution_count": null,
   "metadata": {},
   "outputs": [],
   "source": [
    " \n",
    "class Planner:\n",
    "    \n",
    "    def __init__(self, user):\n",
    "        self.user = user\n",
    "            \n",
    "    def getUser(self):\n",
    "        return self.user"
   ]
  },
  {
   "cell_type": "code",
   "execution_count": null,
   "metadata": {},
   "outputs": [],
   "source": [
    "# planner write\n",
    "p1 = Planner(input())\n",
    "p2 = Planner(input())\n",
    "p3 = Planner(input())\n",
    "p4 = Planner(input())"
   ]
  },
  {
   "cell_type": "code",
   "execution_count": null,
   "metadata": {},
   "outputs": [],
   "source": [
    "# create user list\n",
    "\n",
    "pl = [p1.getUser(), p2.getUser(), p3.getUser(), p4.getUser()]     # planner name in list\n",
    "\n",
    "with open('users.txt', 'w', encoding='utf-8') as u:\n",
    "    u.write('\\n'.join(pl))"
   ]
  },
  {
   "cell_type": "code",
   "execution_count": null,
   "metadata": {},
   "outputs": [],
   "source": [
    "with open('users/pch.txt', 'w', encoding='utf-8') as pch:\n",
    "    pch.write(getTime.getTime())\n",
    "    pch.writelines(f'\\nㅁ {input()}')\n",
    "    pch.writelines(f'\\nㅁ {input()}')\n",
    "    pch.writelines(f'\\nㅁ {input()}')\n",
    "    pch.writelines(f'\\nㅁ {input()}')"
   ]
  },
  {
   "cell_type": "code",
   "execution_count": null,
   "metadata": {},
   "outputs": [],
   "source": [
    "with open('users/pch.txt', 'r', encoding='utf-8') as rpch: \n",
    "    record = rpch.read()                         # 이전의 기록된 내용들을 record 변수에 담아서 다시 write 후 새 일정 작성\n",
    "\n",
    "with open('users/pch.txt', 'w', encoding='utf-8') as pch:\n",
    "    pch.write(record)                            # 기존 파일과 동일한 이름에 재 저장시켜 기록들이 수직으로 나열되도록 코드작성\n",
    "    pch.writelines(f'\\n')                        # 이전 기록들과 구분짓기 위해 한 칸 이격\n",
    "    pch.writelines(f'\\n{getTime.getTime()}') \n",
    "    pch.writelines(f'\\nㅁ {input()}')\n",
    "    pch.writelines(f'\\nㅁ {input()}')\n",
    "    pch.writelines(f'\\nㅁ {input()}')"
   ]
  },
  {
   "cell_type": "code",
   "execution_count": null,
   "metadata": {},
   "outputs": [],
   "source": []
  },
  {
   "cell_type": "code",
   "execution_count": null,
   "metadata": {},
   "outputs": [],
   "source": [
    "name = input('회원 이름을 입력하세요. : ')\n",
    "lst = []\n",
    "\n",
    "with open('DataBase/users.txt', 'r', encoding = 'utf-8') as f:\n",
    "    datas = f.readlines()\n",
    "  \n",
    "    for v in datas:\n",
    "        lst.append(v.strip())\n",
    "        \n",
    "    if name in lst:\n",
    "        print('반갑습니다:) 회원정보가 확인되었습니다.') \n",
    "        print(' ' * 20)\n",
    "        a = open(f'DataBase/Users/{name}.txt', 'r', encoding = 'utf-8')\n",
    "\n",
    "        todo = a.readlines()\n",
    "        for t in todo:\n",
    "            print(t, end = '')\n",
    "            \n",
    "    else:\n",
    "        print('회원정보가 없습니다. 다시 확인해 주세요.')"
   ]
  },
  {
   "cell_type": "code",
   "execution_count": null,
   "metadata": {},
   "outputs": [],
   "source": []
  },
  {
   "cell_type": "code",
   "execution_count": null,
   "metadata": {},
   "outputs": [],
   "source": [
    "f = open('./DataBase/users.txt', 'r', encoding='utf-8')\n",
    "\n",
    "user_list = f.read().splitlines()\n",
    "# print(user_list)\n",
    "input_user = input('이름을 입력하세요 : ')\n",
    "check = False\n",
    "\n",
    "for user in user_list:\n",
    "    if input_user == user:\n",
    "        print('유저입니다.')\n",
    "        print()\n",
    "        check = True\n",
    "        break\n",
    "        \n",
    "if check:\n",
    "    todo = open(f'./DataBase/Users/{input_user}.txt', 'r', encoding='utf-8')\n",
    "    print(todo.read())\n",
    "    \n",
    "    todo.close()\n",
    "else:\n",
    "    print('유저가 아닙니다.')\n",
    "    \n",
    "f.close()"
   ]
  },
  {
   "cell_type": "code",
   "execution_count": null,
   "metadata": {},
   "outputs": [],
   "source": [
    "# 유저추가\n",
    "# a:추가 \n",
    "input_name = \"강혜정\"\n",
    "with open('./DataBase/users.txt','a', encoding='utf-8') as f: \n",
    "    f.write('\\n'+input_name)"
   ]
  },
  {
   "cell_type": "code",
   "execution_count": null,
   "metadata": {},
   "outputs": [],
   "source": [
    "# txt 가져오기\n",
    "in_f = open('./DataBase/Users/하예진.txt', 'r', encoding='utf-8')\n",
    "# 전체 파일 읽어오기(변수에)\n",
    "todo_list = in_f.readlines()\n",
    "in_f.close()\n",
    "# 오늘 날짜에 맞는 list 찾기\n",
    "for idx in range(len(todo_list)):\n",
    "    if todo_list[idx].startswith('#'):\n",
    "        print(idx)\n",
    "        \n",
    "today = todo_list[:7]\n",
    "# print(today)\n",
    "\n",
    "# list에 할일 추가\n",
    "hi = input('추가하기 : ')\n",
    "today.insert(1, f'- {hi}\\n')\n",
    "# print(today)\n",
    "\n",
    "# return\n",
    "add_list = today + todo_list[7:]\n",
    "print(add_list)\n",
    "\n",
    "out_f = open('./DataBase/Users/하예진.txt', 'w', encoding='utf-8')\n",
    "out_f.writelines(add_list)\n",
    "out_f.close()\n"
   ]
  },
  {
   "cell_type": "code",
   "execution_count": null,
   "metadata": {},
   "outputs": [],
   "source": []
  },
  {
   "cell_type": "code",
   "execution_count": null,
   "metadata": {},
   "outputs": [],
   "source": []
  }
 ],
 "metadata": {
  "kernelspec": {
   "display_name": "Python 3",
   "language": "python",
   "name": "python3"
  },
  "language_info": {
   "codemirror_mode": {
    "name": "ipython",
    "version": 3
   },
   "file_extension": ".py",
   "mimetype": "text/x-python",
   "name": "python",
   "nbconvert_exporter": "python",
   "pygments_lexer": "ipython3",
   "version": "3.8.5"
  }
 },
 "nbformat": 4,
 "nbformat_minor": 4
}
