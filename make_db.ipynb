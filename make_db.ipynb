{
 "cells": [
  {
   "cell_type": "code",
   "execution_count": 9,
   "metadata": {},
   "outputs": [],
   "source": [
    "users = ['하예진', '장수정', '이재선', '박철희'] \n",
    "\n",
    "with open('./DataBase/users.txt', 'w', encoding='utf-8') as f:\n",
    "    f.write('\\n'.join(users))\n",
    "    "
   ]
  },
  {
   "cell_type": "code",
   "execution_count": 8,
   "metadata": {},
   "outputs": [],
   "source": [
    "original = ['# 0524', '- 빨래', '- 청소', '--- 완료 ---', '* 물 마시기' , '* 운동']\n",
    "original2 = ['# 0525', '- 빨래', '- 청소']\n",
    "\n",
    "with open('./DataBase/Users/하예진.txt', 'w', encoding='utf-8') as f:\n",
    "    f.write('\\n'.join(original))\n",
    "    f.write('\\n'*2)\n",
    "    f.write('\\n'.join(original2))"
   ]
  },
  {
   "cell_type": "code",
   "execution_count": null,
   "metadata": {},
   "outputs": [],
   "source": []
  }
 ],
 "metadata": {
  "kernelspec": {
   "display_name": "Python 3",
   "language": "python",
   "name": "python3"
  },
  "language_info": {
   "codemirror_mode": {
    "name": "ipython",
    "version": 3
   },
   "file_extension": ".py",
   "mimetype": "text/x-python",
   "name": "python",
   "nbconvert_exporter": "python",
   "pygments_lexer": "ipython3",
   "version": "3.8.5"
  }
 },
 "nbformat": 4,
 "nbformat_minor": 4
}
