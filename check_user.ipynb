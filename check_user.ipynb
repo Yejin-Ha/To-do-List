{
 "cells": [
  {
   "cell_type": "code",
   "execution_count": 1,
   "metadata": {
    "scrolled": true
   },
   "outputs": [
    {
     "ename": "FileNotFoundError",
     "evalue": "[Errno 2] No such file or directory: './DataBase/users.txt'",
     "output_type": "error",
     "traceback": [
      "\u001b[1;31m---------------------------------\u001b[0m",
      "\u001b[1;31mFileNotFoundError\u001b[0mTraceback (most recent call last)",
      "\u001b[1;32m<ipython-input-1-34ea69dfa0fb>\u001b[0m in \u001b[0;36m<module>\u001b[1;34m\u001b[0m\n\u001b[1;32m----> 1\u001b[1;33m \u001b[0mf\u001b[0m \u001b[1;33m=\u001b[0m \u001b[0mopen\u001b[0m\u001b[1;33m(\u001b[0m\u001b[1;34m'./DataBase/users.txt'\u001b[0m\u001b[1;33m,\u001b[0m \u001b[1;34m'r'\u001b[0m\u001b[1;33m,\u001b[0m \u001b[0mencoding\u001b[0m\u001b[1;33m=\u001b[0m\u001b[1;34m'utf-8'\u001b[0m\u001b[1;33m)\u001b[0m\u001b[1;33m\u001b[0m\u001b[1;33m\u001b[0m\u001b[0m\n\u001b[0m\u001b[0;32m      2\u001b[0m \u001b[1;33m\u001b[0m\u001b[0m\n\u001b[0;32m      3\u001b[0m \u001b[0muser_list\u001b[0m \u001b[1;33m=\u001b[0m \u001b[0mf\u001b[0m\u001b[1;33m.\u001b[0m\u001b[0mread\u001b[0m\u001b[1;33m(\u001b[0m\u001b[1;33m)\u001b[0m\u001b[1;33m.\u001b[0m\u001b[0msplitlines\u001b[0m\u001b[1;33m(\u001b[0m\u001b[1;33m)\u001b[0m\u001b[1;33m\u001b[0m\u001b[1;33m\u001b[0m\u001b[0m\n\u001b[0;32m      4\u001b[0m \u001b[1;31m# print(user_list)\u001b[0m\u001b[1;33m\u001b[0m\u001b[1;33m\u001b[0m\u001b[1;33m\u001b[0m\u001b[0m\n\u001b[0;32m      5\u001b[0m \u001b[0minput_user\u001b[0m \u001b[1;33m=\u001b[0m \u001b[0minput\u001b[0m\u001b[1;33m(\u001b[0m\u001b[1;34m'이름을 입력하세요 : '\u001b[0m\u001b[1;33m)\u001b[0m\u001b[1;33m\u001b[0m\u001b[1;33m\u001b[0m\u001b[0m\n",
      "\u001b[1;31mFileNotFoundError\u001b[0m: [Errno 2] No such file or directory: './DataBase/users.txt'"
     ]
    }
   ],
   "source": [
    "f = open('./DataBase/users.txt', 'r', encoding='utf-8')\n",
    "\n",
    "user_list = f.read().splitlines()\n",
    "# print(user_list)\n",
    "input_user = input('이름을 입력하세요 : ')\n",
    "check = False\n",
    "\n",
    "for user in user_list:\n",
    "    if input_user == user:\n",
    "        print('유저입니다.')\n",
    "        print()\n",
    "        check = True\n",
    "        break\n",
    "        \n",
    "if check:\n",
    "    todo = open(f'./DataBase/Users/{input_user}.txt', 'r', encoding='utf-8')\n",
    "    print(todo.read())\n",
    "    \n",
    "    todo.close()\n",
    "else:\n",
    "    print('유저가 아닙니다.')\n",
    "    \n",
    "f.close()"
   ]
  },
  {
   "cell_type": "code",
   "execution_count": null,
   "metadata": {},
   "outputs": [],
   "source": []
  },
  {
   "cell_type": "markdown",
   "metadata": {},
   "source": [
    "## 유저 추가하기"
   ]
  },
  {
   "cell_type": "code",
   "execution_count": 36,
   "metadata": {},
   "outputs": [],
   "source": [
    "# a:추가 \n",
    "input_name = \"강혜정\"\n",
    "with open('./DataBase/users.txt','a', encoding='utf-8') as f: \n",
    "    f.write('\\n'+input_name)"
   ]
  },
  {
   "cell_type": "code",
   "execution_count": null,
   "metadata": {},
   "outputs": [],
   "source": []
  },
  {
   "cell_type": "markdown",
   "metadata": {},
   "source": [
    "## 할일 추가"
   ]
  },
  {
   "cell_type": "code",
   "execution_count": 62,
   "metadata": {},
   "outputs": [
    {
     "name": "stdout",
     "output_type": "stream",
     "text": [
      "0\n",
      "10\n",
      "추가하기 : 점심 먹기\n",
      "['# 0524\\n', '- 점심 먹기\\n', '- ㅇㄴ\\n', '- 일찍자기\\n', '일찍자기\\n', '- 빨래\\n', '- 청소\\n', '--- 완료 ---\\n', '* 물 마시기\\n', '* 운동\\n', '\\n', '# 0525\\n', '- 빨래\\n', '- 청소']\n"
     ]
    }
   ],
   "source": [
    "# txt 가져오기\n",
    "in_f = open('./DataBase/Users/하예진.txt', 'r', encoding='utf-8')\n",
    "# 전체 파일 읽어오기(변수에)\n",
    "todo_list = in_f.readlines()\n",
    "in_f.close()\n",
    "# 오늘 날짜에 맞는 list 찾기\n",
    "for idx in range(len(todo_list)):\n",
    "    if todo_list[idx].startswith('#'):\n",
    "        print(idx)\n",
    "        \n",
    "today = todo_list[:7]\n",
    "# print(today)\n",
    "\n",
    "# list에 할일 추가\n",
    "hi = input('추가하기 : ')\n",
    "today.insert(1, f'- {hi}\\n')\n",
    "# print(today)\n",
    "\n",
    "# return\n",
    "add_list = today + todo_list[7:]\n",
    "print(add_list)\n",
    "\n",
    "out_f = open('./DataBase/Users/하예진.txt', 'w', encoding='utf-8')\n",
    "out_f.writelines(add_list)\n",
    "out_f.close()\n"
   ]
  },
  {
   "cell_type": "code",
   "execution_count": 61,
   "metadata": {},
   "outputs": [],
   "source": [
    "in_f = open('./DataBase/Users/하예진.txt', 'r', encoding='utf-8')\n"
   ]
  }
 ],
 "metadata": {
  "kernelspec": {
   "display_name": "Python 3",
   "language": "python",
   "name": "python3"
  },
  "language_info": {
   "codemirror_mode": {
    "name": "ipython",
    "version": 3
   },
   "file_extension": ".py",
   "mimetype": "text/x-python",
   "name": "python",
   "nbconvert_exporter": "python",
   "pygments_lexer": "ipython3",
   "version": "3.8.5"
  }
 },
 "nbformat": 4,
 "nbformat_minor": 4
}
