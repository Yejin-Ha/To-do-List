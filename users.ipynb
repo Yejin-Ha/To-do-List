{
 "cells": [
  {
   "cell_type": "markdown",
   "metadata": {},
   "source": [
    "## user 파일 생성"
   ]
  },
  {
   "cell_type": "code",
   "execution_count": 9,
   "metadata": {},
   "outputs": [
    {
     "name": "stdout",
     "output_type": "stream",
     "text": [
      "Writing DataBase/Users/users.txt\n"
     ]
    }
   ],
   "source": [
    "%%file DataBase/Users/users.txt \n",
    "하예진\n",
    "장수정\n",
    "박철희\n",
    "이재선"
   ]
  },
  {
   "cell_type": "code",
   "execution_count": 10,
   "metadata": {},
   "outputs": [
    {
     "name": "stdout",
     "output_type": "stream",
     "text": [
      "Overwriting DataBase/Users/장수정.txt\n"
     ]
    }
   ],
   "source": [
    "%%file DataBase/Users/장수정.txt\n",
    "# 0524\n",
    "- 빨래\n",
    "- 청소\n",
    "--- 완료 ---\n",
    "- 물 마시기\n",
    "- 운동"
   ]
  },
  {
   "cell_type": "markdown",
   "metadata": {},
   "source": [
    "## 로그인"
   ]
  },
  {
   "cell_type": "code",
   "execution_count": 12,
   "metadata": {},
   "outputs": [
    {
     "name": "stdout",
     "output_type": "stream",
     "text": [
      "Overwriting DataBase/Users/박철희.txt\n"
     ]
    }
   ],
   "source": [
    "%%file  DataBase/Users/박철희.txt\n",
    "# 0524\n",
    "- 빨래\n",
    "- 청소"
   ]
  },
  {
   "cell_type": "code",
   "execution_count": 14,
   "metadata": {},
   "outputs": [
    {
     "name": "stdout",
     "output_type": "stream",
     "text": [
      "회원 이름을 입력하세요. : 박철희\n",
      "반갑습니다:) 회원정보가 확인되었습니다.\n",
      "                    \n",
      "# 0524\n",
      "- 빨래\n",
      "- 청소\n"
     ]
    }
   ],
   "source": [
    "name = input('회원 이름을 입력하세요. : ')\n",
    "lst = []\n",
    "\n",
    "with open('DataBase/users.txt', 'r', encoding = 'utf-8') as f:\n",
    "    datas = f.readlines()\n",
    "  \n",
    "    for v in datas:\n",
    "        lst.append(v.strip())\n",
    "        \n",
    "    if name in lst:\n",
    "        print('반갑습니다:) 회원정보가 확인되었습니다.') \n",
    "        print(' ' * 20)\n",
    "        a = open(f'DataBase/Users/{name}.txt', 'r', encoding = 'utf-8')\n",
    "\n",
    "        todo = a.readlines()\n",
    "        for t in todo:\n",
    "            print(t, end = '')\n",
    "            \n",
    "    else:\n",
    "        print('회원정보가 없습니다. 다시 확인해 주세요.')"
   ]
  },
  {
   "cell_type": "code",
   "execution_count": 65,
   "metadata": {},
   "outputs": [
    {
     "name": "stdout",
     "output_type": "stream",
     "text": [
      "회원 이름을 입력하세요. : 장수정\n",
      "반갑습니다:) 회원정보가 확인되었습니다.\n",
      "                    \n",
      "# 0524\n",
      "- 빨래\n",
      "- 청소\n",
      "--- 완료 ---\n",
      "- 물 마시기\n",
      "- 운동\n"
     ]
    }
   ],
   "source": [
    "f = open('DataBase/users.txt', 'r', encoding = 'utf-8')\n",
    "\n",
    "datas = f.readlines()\n",
    "name = input('회원 이름을 입력하세요. : ')\n",
    "lst = [] \n",
    "\n",
    "\n",
    "for v in datas:\n",
    "    lst.append(v.strip())\n",
    "        \n",
    "if name in lst:\n",
    "    print('반갑습니다:) 회원정보가 확인되었습니다.') \n",
    "    print(' ' * 20)\n",
    "    a = open(f'DataBase/Users/{name}.txt', 'r+', encoding = 'utf-8')\n",
    "\n",
    "    todo = a.readlines()\n",
    "    for t in todo:\n",
    "        print(t, end = '')\n",
    "            \n",
    "else:\n",
    "    print('회원정보가 없습니다. 다시 확인해 주세요.')\n",
    "        \n",
    "f.close()"
   ]
  },
  {
   "cell_type": "markdown",
   "metadata": {},
   "source": [
    "## 시간 & To do list 추가"
   ]
  },
  {
   "cell_type": "code",
   "execution_count": 67,
   "metadata": {},
   "outputs": [
    {
     "name": "stdout",
     "output_type": "stream",
     "text": [
      "21-05-25\n"
     ]
    }
   ],
   "source": [
    "import datetime # datetime module import\n",
    "\n",
    "def getTime():        \n",
    "    now = datetime.datetime.now()\n",
    "    nowTime =  now.strftime('%y-%m-%d')\n",
    "    return nowTime \n",
    "\n",
    "print(getTime())"
   ]
  },
  {
   "cell_type": "code",
   "execution_count": null,
   "metadata": {},
   "outputs": [],
   "source": [
    "with open('users/pch.txt', 'r', encoding='utf-8') as rpch: \n",
    "    record = rpch.read()                         # 이전의 기록된 내용들을 record 변수에 담아서 다시 write 후 새 일정 작성\n",
    "\n",
    "with open('users/pch.txt', 'w', encoding='utf-8') as pch:\n",
    "    pch.write(record)                            # 기존 파일과 동일한 이름에 재 저장시켜 기록들이 수직으로 나열되도록 코드작성\n",
    "    pch.writelines(f'\\n')                        # 이전 기록들과 구분짓기 위해 한 칸 이격\n",
    "    pch.writelines(f'\\n{getTime.getTime()}') \n",
    "    pch.writelines(f'\\nㅁ {input()}')\n",
    "    pch.writelines(f'\\nㅁ {input()}')\n",
    "    pch.writelines(f'\\nㅁ {input()}')"
   ]
  }
 ],
 "metadata": {
  "kernelspec": {
   "display_name": "Python 3",
   "language": "python",
   "name": "python3"
  },
  "language_info": {
   "codemirror_mode": {
    "name": "ipython",
    "version": 3
   },
   "file_extension": ".py",
   "mimetype": "text/x-python",
   "name": "python",
   "nbconvert_exporter": "python",
   "pygments_lexer": "ipython3",
   "version": "3.8.5"
  }
 },
 "nbformat": 4,
 "nbformat_minor": 4
}
