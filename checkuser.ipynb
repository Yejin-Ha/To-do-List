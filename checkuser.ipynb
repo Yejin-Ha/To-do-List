{
 "cells": [
  {
   "cell_type": "code",
   "execution_count": 8,
   "metadata": {},
   "outputs": [
    {
     "name": "stdout",
     "output_type": "stream",
     "text": [
      "['하예진', '장수정', '박철희', '이재선']\n",
      "이름을 입력하세요 : 이재선\n",
      "\n",
      "# 0524\n",
      " - 빨래\n",
      " - 청소\n",
      "--- 완료 ---\n",
      " - 물 마시기\n",
      " - 운동\n"
     ]
    }
   ],
   "source": [
    "f = open('./DataBase/users.txt', 'r', encoding='utf-8')\n",
    "\n",
    "user_list = f.read().splitlines()\n",
    "print(user_list)\n",
    "input_user = input('이름을 입력하세요 : ')\n",
    "check = False\n",
    "\n",
    "for user in user_list:\n",
    "    if input_user == user:\n",
    "#         print('유저입니다.')\n",
    "        print()\n",
    "        check = True\n",
    "        break\n",
    "        \n",
    "if check:\n",
    "    todo = open(f'./DataBase/Users/{input_user}.txt', 'r', encoding='utf-8')\n",
    "    print(todo.read())\n",
    "    \n",
    "    todo.close()\n",
    "else:\n",
    "    print('유저가 아닙니다.')\n",
    "    \n",
    "f.close()\n"
   ]
  },
  {
   "cell_type": "code",
   "execution_count": 9,
   "metadata": {},
   "outputs": [
    {
     "name": "stdout",
     "output_type": "stream",
     "text": [
      "\n",
      "장수정\n",
      "박철희\n",
      "이재선\n"
     ]
    }
   ],
   "source": []
  },
  {
   "cell_type": "code",
   "execution_count": null,
   "metadata": {},
   "outputs": [],
   "source": []
  }
 ],
 "metadata": {
  "kernelspec": {
   "display_name": "Python 3",
   "language": "python",
   "name": "python3"
  },
  "language_info": {
   "codemirror_mode": {
    "name": "ipython",
    "version": 3
   },
   "file_extension": ".py",
   "mimetype": "text/x-python",
   "name": "python",
   "nbconvert_exporter": "python",
   "pygments_lexer": "ipython3",
   "version": "3.8.5"
  }
 },
 "nbformat": 4,
 "nbformat_minor": 4
}
