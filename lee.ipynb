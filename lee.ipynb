{
 "cells": [
  {
   "cell_type": "code",
   "execution_count": null,
   "metadata": {},
   "outputs": [],
   "source": [
    "while True:\n",
    "    name = input(\"이름 입력 : \")\n",
    "    \n",
    "    if name == \"이재선\" : \n",
    "        print(\"인증성공\")\n",
    "    \n",
    "    if name == \"하예진\" : \n",
    "        print(\"인증성공\")\n",
    "        \n",
    "    if name == \"박철희\" :\n",
    "        print(\"인증성공\")\n",
    "        \n",
    "    if name == \"장수정\":\n",
    "        print(\"인증성공\")\n",
    "\n",
    "        break\n",
    "    else:\n",
    "        print(\"인증실패\")\n",
    "        \n",
    "        \n",
    "print()"
   ]
  },
  {
   "cell_type": "code",
   "execution_count": 1,
   "metadata": {},
   "outputs": [
    {
     "name": "stdout",
     "output_type": "stream",
     "text": [
      "이름 입력 : 이재선\n",
      "인증성공\n",
      "\n"
     ]
    }
   ],
   "source": [
    "while True:\n",
    "    name = input(\"이름 입력 : \")\n",
    "    \n",
    "    if name == \"이재선\" : \n",
    "        print(\"인증성공\")\n",
    "        break\n",
    "    if name == \"하예진\" : \n",
    "        print(\"인증성공\")\n",
    "        break\n",
    "    if name == \"박철희\" :\n",
    "        print(\"인증성공\")\n",
    "        break\n",
    "    if name == \"장수정\":\n",
    "        print(\"인증성공\")\n",
    "\n",
    "        break\n",
    "    else:\n",
    "        print(\"인증실패\")\n",
    "        \n",
    "        \n",
    "print()"
   ]
  },
  {
   "cell_type": "code",
   "execution_count": null,
   "metadata": {},
   "outputs": [],
   "source": []
  },
  {
   "cell_type": "code",
   "execution_count": null,
   "metadata": {},
   "outputs": [],
   "source": []
  }
 ],
 "metadata": {
  "kernelspec": {
   "display_name": "Python 3",
   "language": "python",
   "name": "python3"
  },
  "language_info": {
   "codemirror_mode": {
    "name": "ipython",
    "version": 3
   },
   "file_extension": ".py",
   "mimetype": "text/x-python",
   "name": "python",
   "nbconvert_exporter": "python",
   "pygments_lexer": "ipython3",
   "version": "3.8.5"
  }
 },
 "nbformat": 4,
 "nbformat_minor": 4
}
