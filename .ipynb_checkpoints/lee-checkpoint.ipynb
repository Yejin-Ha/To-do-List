{
 "cells": [
  {
   "cell_type": "code",
   "execution_count": null,
   "metadata": {},
   "outputs": [],
   "source": [
    "while True:\n",
    "    name = input(\"이름 입력 : \")\n",
    "    \n",
    "    if name == \"이재선\" : \n",
    "        print(\"인증성공\")\n",
    "    \n",
    "    if name == \"하예진\" : \n",
    "        print(\"인증성공\")\n",
    "        \n",
    "    if name == \"박철희\" :\n",
    "        print(\"인증성공\")\n",
    "        \n",
    "    if name == \"장수정\":\n",
    "        print(\"인증성공\")\n",
    "\n",
    "        break\n",
    "    else:\n",
    "        print(\"인증실패\")\n",
    "        \n",
    "        \n",
    "print()"
   ]
  },
  {
   "cell_type": "code",
   "execution_count": 1,
   "metadata": {},
   "outputs": [
    {
     "name": "stdout",
     "output_type": "stream",
     "text": [
      "이름 입력 : 이재선\n",
      "인증성공\n",
      "\n"
     ]
    }
   ],
   "source": [
    "while True:\n",
    "    name = input(\"이름 입력 : \")\n",
    "    \n",
    "    if name == \"이재선\" : \n",
    "        print(\"인증성공\")\n",
    "        break\n",
    "    if name == \"하예진\" : \n",
    "        print(\"인증성공\")\n",
    "        break\n",
    "    if name == \"박철희\" :\n",
    "        print(\"인증성공\")\n",
    "        break\n",
    "    if name == \"장수정\":\n",
    "        print(\"인증성공\")\n",
    "\n",
    "        break\n",
    "    else:\n",
    "        print(\"인증실패\")\n",
    "        \n",
    "        \n",
    "print()"
   ]
  },
  {
   "cell_type": "code",
   "execution_count": null,
   "metadata": {},
   "outputs": [],
   "source": [
    "in_f = open('./DataBase/Users/이재선.txt', 'r', encoding='utf-8')\n",
    "\n",
    "# 전체 파일 읽어오기(변수에)\n",
    "todo_list = in_f.readlines()   # ['# 0524\\n'. ... ]\n",
    "in_f.close()\n",
    "\n",
    "# 오늘 날짜에 맞는 list 찾기\n",
    "for idx in range(len(todo_list)):\n",
    "    if todo_list[idx].startswith('#'):\n",
    "        print(idx)\n",
    "        # 0, 7\n",
    "\n",
    "today = todo_list[:7]\n",
    "#print(today)\n",
    "\n",
    "# list에 할일 추가\n",
    "hi = \"밥 조금먹기\"\n",
    "today.insert(1, f'- {hi}\\n')\n",
    "\n",
    "\n",
    "# return\n",
    "add_list = today + todo_list[7:]\n",
    "print(add_list)\n",
    "\n",
    "out_f = open('./DataBase/Users/이재선.txt', 'w', encoding='utf-8')\n",
    "out_f.writelines(add_list)\n",
    "out_f.close()"
   ]
  },
  {
   "cell_type": "code",
   "execution_count": null,
   "metadata": {},
   "outputs": [],
   "source": []
  }
 ],
 "metadata": {
  "kernelspec": {
   "display_name": "Python 3",
   "language": "python",
   "name": "python3"
  },
  "language_info": {
   "codemirror_mode": {
    "name": "ipython",
    "version": 3
   },
   "file_extension": ".py",
   "mimetype": "text/x-python",
   "name": "python",
   "nbconvert_exporter": "python",
   "pygments_lexer": "ipython3",
   "version": "3.8.5"
  }
 },
 "nbformat": 4,
 "nbformat_minor": 4
}
