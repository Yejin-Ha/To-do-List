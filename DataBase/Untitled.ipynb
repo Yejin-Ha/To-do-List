{
 "cells": [
  {
   "cell_type": "code",
   "execution_count": 8,
   "metadata": {},
   "outputs": [],
   "source": [
    "f = open(\"users.txt\", \"w\", encoding=\"utf-8\")\n",
    "\n",
    "f.write(\"하예진\")\n",
    "f.write(\"\\n장수정\")\n",
    "f.write(\"\\n박철희\")\n",
    "f.write(\"\\n이재선\")\n",
    "\n",
    "f.close()"
   ]
  },
  {
   "cell_type": "code",
   "execution_count": 9,
   "metadata": {},
   "outputs": [],
   "source": [
    "lee = open(\"Users/각자이름.txt\", \"w\", encoding=\"utf-8\")\n",
    "\n",
    "\n",
    "lee.write(\"# 0524\")\n",
    "lee.write(\"\\n - 빨래\")\n",
    "lee.write(\"\\n - 청소\")\n",
    "lee.write(\"\\n--- 완료 ---\")\n",
    "lee.write(\"\\n - 물 마시기\")\n",
    "lee.write(\"\\n - 운동\")\n",
    "\n",
    "\n",
    "lee.close()"
   ]
  },
  {
   "cell_type": "code",
   "execution_count": null,
   "metadata": {},
   "outputs": [],
   "source": []
  }
 ],
 "metadata": {
  "kernelspec": {
   "display_name": "Python 3",
   "language": "python",
   "name": "python3"
  },
  "language_info": {
   "codemirror_mode": {
    "name": "ipython",
    "version": 3
   },
   "file_extension": ".py",
   "mimetype": "text/x-python",
   "name": "python",
   "nbconvert_exporter": "python",
   "pygments_lexer": "ipython3",
   "version": "3.8.5"
  }
 },
 "nbformat": 4,
 "nbformat_minor": 4
}
