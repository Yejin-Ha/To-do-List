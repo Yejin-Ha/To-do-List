{
 "cells": [
  {
   "cell_type": "code",
   "execution_count": 2,
   "metadata": {},
   "outputs": [
    {
     "name": "stdout",
     "output_type": "stream",
     "text": [
      "하예진\n",
      "\n",
      "장수정\n",
      "\n",
      "박철희\n",
      "\n",
      "이재선\n"
     ]
    }
   ],
   "source": [
    "with open(\"users.txt\", \"w\", encoding=\"utf-8\") as f:\n",
    "    print(\"하예진\")\n",
    "    print(\"\\n장수정\")\n",
    "    print(\"\\n박철희\")\n",
    "    print(\"\\n이재선\")"
   ]
  },
  {
   "cell_type": "code",
   "execution_count": null,
   "metadata": {},
   "outputs": [],
   "source": []
  }
 ],
 "metadata": {
  "kernelspec": {
   "display_name": "Python 3",
   "language": "python",
   "name": "python3"
  },
  "language_info": {
   "codemirror_mode": {
    "name": "ipython",
    "version": 3
   },
   "file_extension": ".py",
   "mimetype": "text/x-python",
   "name": "python",
   "nbconvert_exporter": "python",
   "pygments_lexer": "ipython3",
   "version": "3.8.5"
  }
 },
 "nbformat": 4,
 "nbformat_minor": 4
}
