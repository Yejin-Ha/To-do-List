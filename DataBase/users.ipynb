{
 "cells": [
  {
   "cell_type": "code",
   "execution_count": 22,
   "metadata": {},
   "outputs": [
    {
     "name": "stdout",
     "output_type": "stream",
     "text": [
      "Overwriting users.txt\n"
     ]
    }
   ],
   "source": [
    "%%file users.txt \n",
    "하예진\n",
    "장수정\n",
    "박철희\n",
    "이재선"
   ]
  },
  {
   "cell_type": "code",
   "execution_count": 23,
   "metadata": {},
   "outputs": [
    {
     "name": "stdout",
     "output_type": "stream",
     "text": [
      "Overwriting 장수정.txt\n"
     ]
    }
   ],
   "source": [
    "%%file 장수정.txt\n",
    "# 0524\n",
    "- 빨래\n",
    "- 청소\n",
    "--- 완료 ---\n",
    "- 물 마시기\n",
    "- 운동"
   ]
  },
  {
   "cell_type": "code",
   "execution_count": 117,
   "metadata": {},
   "outputs": [
    {
     "name": "stdout",
     "output_type": "stream",
     "text": [
      "회원 이름을 입력하세요. : 장수정\n",
      "반갑습니다:) 회원정보가 확인되었습니다.\n",
      "                    \n",
      "# 0524\n",
      "- 빨래\n",
      "- 청소\n",
      "--- 완료 ---\n",
      "- 물 마시기\n",
      "- 운동"
     ]
    }
   ],
   "source": [
    "name = input('회원 이름을 입력하세요. : ')\n",
    "lst = []\n",
    "\n",
    "with open('users.txt', 'r', encoding = 'utf-8') as f:\n",
    "    datas = f.readlines()\n",
    "  \n",
    "    for v in datas:\n",
    "        lst.append(v.strip())\n",
    "        \n",
    "    if name in lst:\n",
    "        print('반갑습니다:) 회원정보가 확인되었습니다.') \n",
    "        print(' ' * 20)\n",
    "        a = open(f'Users/{name}.txt', 'r', encoding = 'utf-8')\n",
    "\n",
    "        todo = a.readlines()\n",
    "        for t in todo:\n",
    "            print(t, end = '')\n",
    "            \n",
    "    else:\n",
    "        print('회원정보가 없습니다. 다시 확인해 주세요.')"
   ]
  },
  {
   "cell_type": "code",
   "execution_count": 119,
   "metadata": {},
   "outputs": [
    {
     "name": "stdout",
     "output_type": "stream",
     "text": [
      "회원 이름을 입력하세요. : 장수정\n",
      "반갑습니다:) 회원정보가 확인되었습니다.\n",
      "                    \n",
      "# 0524\n",
      "- 빨래\n",
      "- 청소\n",
      "--- 완료 ---\n",
      "- 물 마시기\n",
      "- 운동"
     ]
    }
   ],
   "source": [
    "f = open('users.txt', 'r', encoding = 'utf-8')\n",
    "\n",
    "datas = f.readlines()\n",
    "name = input('회원 이름을 입력하세요. : ')\n",
    "lst = [] \n",
    "\n",
    "\n",
    "for v in datas:\n",
    "    lst.append(v.strip())\n",
    "        \n",
    "if name in lst:\n",
    "    print('반갑습니다:) 회원정보가 확인되었습니다.') \n",
    "    print(' ' * 20)\n",
    "    a = open(f'Users/{name}.txt', 'r', encoding = 'utf-8')\n",
    "\n",
    "    todo = a.readlines()\n",
    "    for t in todo:\n",
    "        print(t, end = '')\n",
    "            \n",
    "else:\n",
    "    print('회원정보가 없습니다. 다시 확인해 주세요.')\n",
    "        \n",
    "f.close()"
   ]
  }
 ],
 "metadata": {
  "kernelspec": {
   "display_name": "Python 3",
   "language": "python",
   "name": "python3"
  },
  "language_info": {
   "codemirror_mode": {
    "name": "ipython",
    "version": 3
   },
   "file_extension": ".py",
   "mimetype": "text/x-python",
   "name": "python",
   "nbconvert_exporter": "python",
   "pygments_lexer": "ipython3",
   "version": "3.8.5"
  }
 },
 "nbformat": 4,
 "nbformat_minor": 4
}
