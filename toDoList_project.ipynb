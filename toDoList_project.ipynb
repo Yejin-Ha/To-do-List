{
 "cells": [
  {
   "cell_type": "code",
   "execution_count": 3,
   "metadata": {},
   "outputs": [],
   "source": [
    "import getTime"
   ]
  },
  {
   "cell_type": "code",
   "execution_count": 4,
   "metadata": {
    "scrolled": true
   },
   "outputs": [
    {
     "data": {
      "text/plain": [
       "'21-05-25 10:04'"
      ]
     },
     "execution_count": 4,
     "metadata": {},
     "output_type": "execute_result"
    }
   ],
   "source": [
    "getTime.getTime()"
   ]
  },
  {
   "cell_type": "code",
   "execution_count": 5,
   "metadata": {},
   "outputs": [],
   "source": [
    "class Planner:\n",
    "    \n",
    "    def __init__(self, user):\n",
    "        self.user = user\n",
    "            \n",
    "    def getUser(self):\n",
    "        return self.user"
   ]
  },
  {
   "cell_type": "code",
   "execution_count": 5,
   "metadata": {
    "collapsed": true
   },
   "outputs": [
    {
     "name": "stdout",
     "output_type": "stream",
     "text": [
      "박철희\n",
      "장수정\n",
      "이재선\n",
      "하예진\n"
     ]
    }
   ],
   "source": [
    "# planner write\n",
    "\n",
    "p1 = Planner(input())\n",
    "p2 = Planner(input())\n",
    "p3 = Planner(input())\n",
    "p4 = Planner(input())"
   ]
  },
  {
   "cell_type": "code",
   "execution_count": 6,
   "metadata": {
    "scrolled": false
   },
   "outputs": [],
   "source": [
    "# create user list\n",
    "\n",
    "pl = [p1.getUser(), p2.getUser(), p3.getUser(), p4.getUser()]     # planner name in list\n",
    "\n",
    "with open('users.txt', 'w', encoding='utf-8') as u:\n",
    "    u.write('\\n'.join(pl))"
   ]
  },
  {
   "cell_type": "code",
   "execution_count": 12,
   "metadata": {},
   "outputs": [
    {
     "name": "stdout",
     "output_type": "stream",
     "text": [
      "a\n",
      "a\n",
      "a\n",
      "a\n"
     ]
    }
   ],
   "source": [
    "with open('users/pch.txt', 'w', encoding='utf-8') as pch:\n",
    "    pch.write(getTime.getTime())\n",
    "    pch.writelines(f'\\nㅁ {input()}')\n",
    "    pch.writelines(f'\\nㅁ {input()}')\n",
    "    pch.writelines(f'\\nㅁ {input()}')\n",
    "    pch.writelines(f'\\nㅁ {input()}')"
   ]
  },
  {
   "cell_type": "code",
   "execution_count": 15,
   "metadata": {},
   "outputs": [
    {
     "name": "stdout",
     "output_type": "stream",
     "text": [
      "d\n",
      "d\n",
      "d\n"
     ]
    }
   ],
   "source": [
    "with open('users/pch.txt', 'r', encoding='utf-8') as rpch: \n",
    "    record = rpch.read()                         # 이전의 기록된 내용들을 record 변수에 담아서 다시 write 후 새 일정 작성\n",
    "\n",
    "with open('users/pch.txt', 'w', encoding='utf-8') as pch:\n",
    "    pch.write(record)                            # 기존 파일과 동일한 이름에 재 저장시켜 기록들이 수직으로 나열되도록 코드작성\n",
    "    pch.writelines(f'\\n')                        # 이전 기록들과 구분짓기 위해 한 칸 이격\n",
    "    pch.writelines(f'\\n{getTime.getTime()}') \n",
    "    pch.writelines(f'\\nㅁ {input()}')\n",
    "    pch.writelines(f'\\nㅁ {input()}')\n",
    "    pch.writelines(f'\\nㅁ {input()}')"
   ]
  },
  {
   "cell_type": "code",
   "execution_count": null,
   "metadata": {},
   "outputs": [],
   "source": [
    "# third commit"
   ]
  }
 ],
 "metadata": {
  "kernelspec": {
   "display_name": "Python 3",
   "language": "python",
   "name": "python3"
  },
  "language_info": {
   "codemirror_mode": {
    "name": "ipython",
    "version": 3
   },
   "file_extension": ".py",
   "mimetype": "text/x-python",
   "name": "python",
   "nbconvert_exporter": "python",
   "pygments_lexer": "ipython3",
   "version": "3.8.5"
  }
 },
 "nbformat": 4,
 "nbformat_minor": 4
}