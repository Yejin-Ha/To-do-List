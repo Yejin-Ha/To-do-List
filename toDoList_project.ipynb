{
 "cells": [
  {
   "cell_type": "code",
   "execution_count": 200,
   "metadata": {},
   "outputs": [],
   "source": [
    "import datetime\n",
    "def getTime():        \n",
    "    now = datetime.datetime.now()\n",
    "    nowTime =  now.strftime('%y-%m-%d %H:%M')\n",
    "    return nowTime"
   ]
  },
  {
   "cell_type": "code",
   "execution_count": 189,
   "metadata": {},
   "outputs": [],
   "source": [
    "class Planner:\n",
    "    \n",
    "    def __init__(self, user):\n",
    "        self.user = user\n",
    "            \n",
    "    def getUser(self):\n",
    "        return self.user"
   ]
  },
  {
   "cell_type": "code",
   "execution_count": null,
   "metadata": {},
   "outputs": [],
   "source": [
    "# planner write\n",
    "\n",
    "p1 = Planner(input())\n",
    "p2 = Planner(input())\n",
    "p3 = Planner(input())\n",
    "p4 = Planner(input())"
   ]
  },
  {
   "cell_type": "code",
   "execution_count": 177,
   "metadata": {
    "scrolled": false
   },
   "outputs": [],
   "source": [
    "# create user list\n",
    "\n",
    "pl = [p1.getUser(), p2.getUser(), p3.getUser(), p4.getUser()]     # planner name in list\n",
    "\n",
    "with open('users.txt', 'w', encoding='utf-8') as u:\n",
    "    u.write('\\n'.join(pl))"
   ]
  },
  {
   "cell_type": "code",
   "execution_count": 213,
   "metadata": {},
   "outputs": [
    {
     "name": "stdout",
     "output_type": "stream",
     "text": [
      "이것\n",
      "저것\n"
     ]
    }
   ],
   "source": [
    "with open('users/pch.txt', 'w', encoding='utf-8') as pch:\n",
    "    pch.write(getTime())\n",
    "    pch.writelines(f'\\nㅁ {input()}')\n",
    "    pch.writelines(f'\\nㅁ {input()}')\n"
   ]
  },
  {
   "cell_type": "code",
   "execution_count": null,
   "metadata": {},
   "outputs": [],
   "source": [
    "# first commit"
   ]
  }
 ],
 "metadata": {
  "kernelspec": {
   "display_name": "Python 3",
   "language": "python",
   "name": "python3"
  },
  "language_info": {
   "codemirror_mode": {
    "name": "ipython",
    "version": 3
   },
   "file_extension": ".py",
   "mimetype": "text/x-python",
   "name": "python",
   "nbconvert_exporter": "python",
   "pygments_lexer": "ipython3",
   "version": "3.8.5"
  }
 },
 "nbformat": 4,
 "nbformat_minor": 4
}